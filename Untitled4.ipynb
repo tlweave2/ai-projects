{
  "nbformat": 4,
  "nbformat_minor": 0,
  "metadata": {
    "colab": {
      "provenance": [],
      "gpuType": "T4",
      "authorship_tag": "ABX9TyPk/yO887jzQMwuzk+F2aQg",
      "include_colab_link": true
    },
    "kernelspec": {
      "name": "python3",
      "display_name": "Python 3"
    },
    "language_info": {
      "name": "python"
    }
  },
  "cells": [
    {
      "cell_type": "markdown",
      "metadata": {
        "id": "view-in-github",
        "colab_type": "text"
      },
      "source": [
        "<a href=\"https://colab.research.google.com/github/tlweave2/ai-projects/blob/main/Untitled4.ipynb\" target=\"_parent\"><img src=\"https://colab.research.google.com/assets/colab-badge.svg\" alt=\"Open In Colab\"/></a>"
      ]
    },
    {
      "cell_type": "code",
      "source": [
        "## pytorch\n"
      ],
      "metadata": {
        "id": "sN8y8jtPnaey"
      },
      "execution_count": 4,
      "outputs": []
    },
    {
      "cell_type": "code",
      "source": [
        "import torch\n",
        "import numpy as np\n",
        "import matplotlib.pyplot as plt\n",
        "import pandas as pd\n",
        "print(torch.__version__)\n"
      ],
      "metadata": {
        "colab": {
          "base_uri": "https://localhost:8080/"
        },
        "id": "_cQJqldlnjOB",
        "outputId": "55952107-d02c-4b33-f47e-30b2274e00d7"
      },
      "execution_count": 5,
      "outputs": [
        {
          "output_type": "stream",
          "name": "stdout",
          "text": [
            "2.8.0+cu126\n"
          ]
        }
      ]
    },
    {
      "cell_type": "code",
      "source": [
        "#scalar\n",
        "scalar = torch.tensor(7)\n",
        "scalar"
      ],
      "metadata": {
        "colab": {
          "base_uri": "https://localhost:8080/"
        },
        "id": "3FKvh0sRoCjr",
        "outputId": "50bdcf9e-828b-42f7-855f-13d8bd96b9b1"
      },
      "execution_count": null,
      "outputs": [
        {
          "output_type": "execute_result",
          "data": {
            "text/plain": [
              "tensor(7)"
            ]
          },
          "metadata": {},
          "execution_count": 7
        }
      ]
    },
    {
      "cell_type": "code",
      "source": [
        "scalar.ndim"
      ],
      "metadata": {
        "colab": {
          "base_uri": "https://localhost:8080/"
        },
        "id": "4eNILVLWo30a",
        "outputId": "ebc6498c-2fe6-4daf-acb5-6fec33ac233a"
      },
      "execution_count": null,
      "outputs": [
        {
          "output_type": "execute_result",
          "data": {
            "text/plain": [
              "0"
            ]
          },
          "metadata": {},
          "execution_count": 8
        }
      ]
    },
    {
      "cell_type": "code",
      "source": [
        "scalar.item()"
      ],
      "metadata": {
        "colab": {
          "base_uri": "https://localhost:8080/"
        },
        "id": "vss_VrNDpNKB",
        "outputId": "94adecc4-7229-46b1-e1c3-0980a5cb5571"
      },
      "execution_count": null,
      "outputs": [
        {
          "output_type": "execute_result",
          "data": {
            "text/plain": [
              "7"
            ]
          },
          "metadata": {},
          "execution_count": 9
        }
      ]
    },
    {
      "cell_type": "code",
      "source": [
        "vector = torch.tensor([7,7])\n",
        "vector\n"
      ],
      "metadata": {
        "colab": {
          "base_uri": "https://localhost:8080/"
        },
        "id": "8jbwomT-pTIi",
        "outputId": "2d971de8-9a89-4d3d-aa30-700a6e5616dc"
      },
      "execution_count": null,
      "outputs": [
        {
          "output_type": "execute_result",
          "data": {
            "text/plain": [
              "tensor([7, 7])"
            ]
          },
          "metadata": {},
          "execution_count": 10
        }
      ]
    },
    {
      "cell_type": "code",
      "source": [
        "vector.ndim"
      ],
      "metadata": {
        "colab": {
          "base_uri": "https://localhost:8080/"
        },
        "id": "OxnGV2A5qeDO",
        "outputId": "d0dd57cf-e538-45b2-a846-d4153cf2609a"
      },
      "execution_count": null,
      "outputs": [
        {
          "output_type": "execute_result",
          "data": {
            "text/plain": [
              "1"
            ]
          },
          "metadata": {},
          "execution_count": 11
        }
      ]
    },
    {
      "cell_type": "code",
      "source": [
        "vector.shape"
      ],
      "metadata": {
        "colab": {
          "base_uri": "https://localhost:8080/"
        },
        "id": "gZI1bsVGqgJ7",
        "outputId": "d5dcb985-dc3e-4e94-a7fc-ddc5e9736b82"
      },
      "execution_count": null,
      "outputs": [
        {
          "output_type": "execute_result",
          "data": {
            "text/plain": [
              "torch.Size([2])"
            ]
          },
          "metadata": {},
          "execution_count": 12
        }
      ]
    },
    {
      "cell_type": "code",
      "source": [
        "randaom = torch.rand(3,4)\n",
        "randaom\n"
      ],
      "metadata": {
        "id": "2rFapIa6qn4l",
        "colab": {
          "base_uri": "https://localhost:8080/"
        },
        "outputId": "f064f970-b173-4428-a981-baa474022fe6"
      },
      "execution_count": 6,
      "outputs": [
        {
          "output_type": "execute_result",
          "data": {
            "text/plain": [
              "tensor([[0.7377, 0.3322, 0.3135, 0.2959],\n",
              "        [0.5626, 0.7800, 0.5022, 0.0960],\n",
              "        [0.9492, 0.3731, 0.1867, 0.0159]])"
            ]
          },
          "metadata": {},
          "execution_count": 6
        }
      ]
    },
    {
      "cell_type": "code",
      "source": [
        "randomimage = torch.rand(224,224,3)\n",
        "randomimage"
      ],
      "metadata": {
        "colab": {
          "base_uri": "https://localhost:8080/"
        },
        "id": "rl1-py7IXz5_",
        "outputId": "52caf3fc-bd99-4b32-d9dd-fe5e93fa48b4"
      },
      "execution_count": 7,
      "outputs": [
        {
          "output_type": "execute_result",
          "data": {
            "text/plain": [
              "tensor([[[0.7774, 0.7879, 0.2463],\n",
              "         [0.9516, 0.3770, 0.6326],\n",
              "         [0.8374, 0.8597, 0.2067],\n",
              "         ...,\n",
              "         [0.7930, 0.5503, 0.3369],\n",
              "         [0.0527, 0.7425, 0.5546],\n",
              "         [0.3256, 0.6309, 0.3110]],\n",
              "\n",
              "        [[0.2293, 0.6420, 0.2860],\n",
              "         [0.2894, 0.2029, 0.5515],\n",
              "         [0.4078, 0.5051, 0.3938],\n",
              "         ...,\n",
              "         [0.2558, 0.6034, 0.2528],\n",
              "         [0.3337, 0.7931, 0.5972],\n",
              "         [0.4785, 0.8531, 0.9083]],\n",
              "\n",
              "        [[0.3688, 0.8272, 0.4132],\n",
              "         [0.4237, 0.5447, 0.8080],\n",
              "         [0.6997, 0.3378, 0.5539],\n",
              "         ...,\n",
              "         [0.4887, 0.3973, 0.9990],\n",
              "         [0.4865, 0.1541, 0.8347],\n",
              "         [0.6835, 0.6454, 0.4763]],\n",
              "\n",
              "        ...,\n",
              "\n",
              "        [[0.7174, 0.9047, 0.1512],\n",
              "         [0.5449, 0.8441, 0.1423],\n",
              "         [0.8811, 0.1344, 0.0216],\n",
              "         ...,\n",
              "         [0.5090, 0.2337, 0.3807],\n",
              "         [0.1509, 0.8095, 0.8503],\n",
              "         [0.5926, 0.0793, 0.7158]],\n",
              "\n",
              "        [[0.1217, 0.3206, 0.5324],\n",
              "         [0.8821, 0.7874, 0.2255],\n",
              "         [0.9224, 0.4008, 0.3800],\n",
              "         ...,\n",
              "         [0.5221, 0.1686, 0.6176],\n",
              "         [0.3895, 0.3722, 0.0627],\n",
              "         [0.2089, 0.5647, 0.4826]],\n",
              "\n",
              "        [[0.2420, 0.8488, 0.7441],\n",
              "         [0.8834, 0.2885, 0.6728],\n",
              "         [0.4360, 0.6502, 0.3104],\n",
              "         ...,\n",
              "         [0.5608, 0.0053, 0.3765],\n",
              "         [0.8033, 0.9208, 0.0999],\n",
              "         [0.1846, 0.0269, 0.8676]]])"
            ]
          },
          "metadata": {},
          "execution_count": 7
        }
      ]
    },
    {
      "cell_type": "code",
      "source": [
        "zero = torch.zeros(3,4)\n",
        "zero"
      ],
      "metadata": {
        "colab": {
          "base_uri": "https://localhost:8080/"
        },
        "id": "eb2zylqkYIo0",
        "outputId": "ba686a04-93bd-445d-8c78-f60e250a60cb"
      },
      "execution_count": 8,
      "outputs": [
        {
          "output_type": "execute_result",
          "data": {
            "text/plain": [
              "tensor([[0., 0., 0., 0.],\n",
              "        [0., 0., 0., 0.],\n",
              "        [0., 0., 0., 0.]])"
            ]
          },
          "metadata": {},
          "execution_count": 8
        }
      ]
    },
    {
      "cell_type": "code",
      "source": [
        "torch.arange(0,10)\n"
      ],
      "metadata": {
        "colab": {
          "base_uri": "https://localhost:8080/"
        },
        "id": "NyVJ6uHMYsOR",
        "outputId": "9d3acd2c-b0a9-4b28-b4a7-51e6bfe60cc7"
      },
      "execution_count": 9,
      "outputs": [
        {
          "output_type": "execute_result",
          "data": {
            "text/plain": [
              "tensor([0, 1, 2, 3, 4, 5, 6, 7, 8, 9])"
            ]
          },
          "metadata": {},
          "execution_count": 9
        }
      ]
    },
    {
      "cell_type": "code",
      "source": [
        "float32tensor = torch.tensor([3.0,6.0,9.0],dtype=None,device=None,requires_grad=False)\n",
        "float32tensor"
      ],
      "metadata": {
        "colab": {
          "base_uri": "https://localhost:8080/"
        },
        "id": "uhDqOSM2ZOt0",
        "outputId": "da3b541a-4270-4f63-e9bc-8b4a680607d2"
      },
      "execution_count": 10,
      "outputs": [
        {
          "output_type": "execute_result",
          "data": {
            "text/plain": [
              "tensor([3., 6., 9.])"
            ]
          },
          "metadata": {},
          "execution_count": 10
        }
      ]
    },
    {
      "cell_type": "code",
      "source": [
        "float16tensor = float32tensor.type(torch.float16)\n",
        "float16tensor"
      ],
      "metadata": {
        "colab": {
          "base_uri": "https://localhost:8080/"
        },
        "id": "2KLiL6fTcwXL",
        "outputId": "bcf201ab-413a-4a83-99c6-1d15c592b8a2"
      },
      "execution_count": 11,
      "outputs": [
        {
          "output_type": "execute_result",
          "data": {
            "text/plain": [
              "tensor([3., 6., 9.], dtype=torch.float16)"
            ]
          },
          "metadata": {},
          "execution_count": 11
        }
      ]
    },
    {
      "cell_type": "code",
      "source": [
        "float16tensor*float32tensor"
      ],
      "metadata": {
        "colab": {
          "base_uri": "https://localhost:8080/"
        },
        "id": "UybKMzd6fKCy",
        "outputId": "5a2da221-61af-4bd8-cb00-02ab932edcfb"
      },
      "execution_count": 12,
      "outputs": [
        {
          "output_type": "execute_result",
          "data": {
            "text/plain": [
              "tensor([ 9., 36., 81.])"
            ]
          },
          "metadata": {},
          "execution_count": 12
        }
      ]
    },
    {
      "cell_type": "code",
      "source": [
        "itn32tensor = torch.int32([3,4,9])\n",
        "itn32tensor"
      ],
      "metadata": {
        "colab": {
          "base_uri": "https://localhost:8080/",
          "height": 159
        },
        "id": "vDZxQiX-faZx",
        "outputId": "83d5bdc4-2233-4bef-9cdf-f73d02c392a1"
      },
      "execution_count": 14,
      "outputs": [
        {
          "output_type": "error",
          "ename": "TypeError",
          "evalue": "'torch.dtype' object is not callable",
          "traceback": [
            "\u001b[0;31m---------------------------------------------------------------------------\u001b[0m",
            "\u001b[0;31mTypeError\u001b[0m                                 Traceback (most recent call last)",
            "\u001b[0;32m/tmp/ipython-input-2669624549.py\u001b[0m in \u001b[0;36m<cell line: 0>\u001b[0;34m()\u001b[0m\n\u001b[0;32m----> 1\u001b[0;31m \u001b[0mitn32tensor\u001b[0m \u001b[0;34m=\u001b[0m \u001b[0mtorch\u001b[0m\u001b[0;34m.\u001b[0m\u001b[0mint32\u001b[0m\u001b[0;34m(\u001b[0m\u001b[0;34m[\u001b[0m\u001b[0;36m3\u001b[0m\u001b[0;34m,\u001b[0m\u001b[0;36m4\u001b[0m\u001b[0;34m,\u001b[0m\u001b[0;36m9\u001b[0m\u001b[0;34m]\u001b[0m\u001b[0;34m)\u001b[0m\u001b[0;34m\u001b[0m\u001b[0;34m\u001b[0m\u001b[0m\n\u001b[0m\u001b[1;32m      2\u001b[0m \u001b[0mitn32tensor\u001b[0m\u001b[0;34m\u001b[0m\u001b[0;34m\u001b[0m\u001b[0m\n",
            "\u001b[0;31mTypeError\u001b[0m: 'torch.dtype' object is not callable"
          ]
        }
      ]
    },
    {
      "cell_type": "code",
      "source": [
        "sometensor = torch.rand(3,4)\n",
        "sometensor"
      ],
      "metadata": {
        "colab": {
          "base_uri": "https://localhost:8080/"
        },
        "id": "-7CD3W2BfmoY",
        "outputId": "1ec8288b-ba50-465e-b788-abda3abd114b"
      },
      "execution_count": 15,
      "outputs": [
        {
          "output_type": "execute_result",
          "data": {
            "text/plain": [
              "tensor([[0.3139, 0.4427, 0.8961, 0.5029],\n",
              "        [0.7315, 0.3706, 0.0703, 0.5091],\n",
              "        [0.1356, 0.7303, 0.1673, 0.9490]])"
            ]
          },
          "metadata": {},
          "execution_count": 15
        }
      ]
    },
    {
      "cell_type": "code",
      "source": [
        "\n",
        "print(f\"datatype of tensor:{sometensor.dtype}\")\n",
        "print(f\"shape of tensor:{sometensor.shape}\")\n",
        "print(f\"device of tensor:{sometensor.device}\")\n"
      ],
      "metadata": {
        "colab": {
          "base_uri": "https://localhost:8080/"
        },
        "id": "Xue1KuiEgOd_",
        "outputId": "f735d53b-3356-4002-c47c-e623e9d9db0a"
      },
      "execution_count": 16,
      "outputs": [
        {
          "output_type": "stream",
          "name": "stdout",
          "text": [
            "datatype of tensor:torch.float32\n",
            "shape of tensor:torch.Size([3, 4])\n",
            "device of tensor:cpu\n"
          ]
        }
      ]
    },
    {
      "cell_type": "code",
      "source": [],
      "metadata": {
        "id": "Jjel0VzJgSPh"
      },
      "execution_count": null,
      "outputs": []
    }
  ]
}